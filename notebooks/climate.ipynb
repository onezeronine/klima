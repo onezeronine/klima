{
 "cells": [
  {
   "cell_type": "markdown",
   "metadata": {},
   "source": [
    "Based on the rate of consumption emissions, territorial emissions, fossil fuel type and the global carbon project, estimate the predicted annual temperature of the Philippines in 2050.\n",
    "\n",
    "NOTES:\n",
    "\n",
    "1. On the spikes, point out the events that caused the spike like the 1998 PH drought, the World War 2 in 1944-1945, El Niño/La Nina phenomenons.\n",
    "2. Add the number of typhoons that entered the Philippines.\n",
    "3. Agricultural output and Annual GDP\n",
    "4. Oil export and consumption\n",
    "5. Population"
   ]
  },
  {
   "cell_type": "code",
   "execution_count": 1,
   "metadata": {},
   "outputs": [],
   "source": [
    "import pandas as pd\n",
    "import numpy as np\n",
    "import matplotlib.pyplot as plt\n",
    "import seaborn as sns\n",
    "import math\n",
    "%matplotlib inline"
   ]
  },
  {
   "cell_type": "code",
   "execution_count": 2,
   "metadata": {},
   "outputs": [],
   "source": [
    "rainfall_ph = pd.read_csv(\"../data/worldbank/pr_1901_2016_PHL.csv\")\n",
    "temperature_ph = pd.read_csv(\"../data/worldbank/tas_1901_2016_PHL.csv\")\n",
    "temperature_global_annual = pd.read_csv(\"../data/datahub.io/global-temp/data/annual_csv.csv\")\n",
    "\n",
    "consumption_emissions = pd.read_csv(\"../data/global-carbon-project/consumption-emissions.csv\")\n",
    "territorial_emissions = pd.read_csv(\"../data/global-carbon-project/territorial-emissions.csv\")\n",
    "fossil_fuel_type = pd.read_csv(\"../data/global-carbon-project/fossil-fuel-type.csv\")\n",
    "global_carbon_project = pd.read_csv(\"../data/global-carbon-project/global-carbon-budget.csv\")\n",
    "worldbank_data = pd.read_csv(\"../data/worldbank/worldbank_ph_fr1960.csv\")"
   ]
  },
  {
   "cell_type": "code",
   "execution_count": 3,
   "metadata": {},
   "outputs": [],
   "source": [
    "wb_data = worldbank_data[worldbank_data['Country Code'] == 'PHL']\\\n",
    "    .drop(columns=['Country Name', 'Country Code', 'Indicator Name'])\\\n",
    "    .pivot_table(columns='Indicator Code')\\\n",
    "    .reset_index()\\\n",
    "    .rename(columns={'index': 'Year'})\\\n",
    "    .iloc[:-1]\n",
    "\n",
    "wb_data['Year'] = wb_data['Year'].astype(int)"
   ]
  },
  {
   "cell_type": "code",
   "execution_count": 4,
   "metadata": {},
   "outputs": [
    {
     "data": {
      "text/plain": [
       "0     6.684569e+09\n",
       "1     7.256967e+09\n",
       "2     4.399828e+09\n",
       "3     4.875310e+09\n",
       "4     5.271405e+09\n",
       "5     5.784399e+09\n",
       "6     6.371459e+09\n",
       "7     6.809134e+09\n",
       "8     7.591603e+09\n",
       "9     8.408230e+09\n",
       "10    6.687205e+09\n",
       "11    7.408306e+09\n",
       "12    8.017469e+09\n",
       "13    1.008289e+10\n",
       "14    1.378114e+10\n",
       "15    1.489397e+10\n",
       "16    1.709756e+10\n",
       "17    1.964811e+10\n",
       "18    2.270616e+10\n",
       "19    2.750217e+10\n",
       "20    3.245054e+10\n",
       "21    3.564642e+10\n",
       "22    3.714016e+10\n",
       "23    3.321218e+10\n",
       "24    3.140849e+10\n",
       "25    3.073434e+10\n",
       "26    2.986834e+10\n",
       "27    3.319593e+10\n",
       "28    3.788544e+10\n",
       "29    4.257518e+10\n",
       "30    4.431159e+10\n",
       "31    4.541756e+10\n",
       "32    5.297634e+10\n",
       "33    5.436808e+10\n",
       "34    6.408446e+10\n",
       "35    7.411999e+10\n",
       "36    8.284814e+10\n",
       "37    8.234426e+10\n",
       "38    7.220703e+10\n",
       "39    8.299515e+10\n",
       "40    8.102630e+10\n",
       "41    7.626207e+10\n",
       "42    8.135761e+10\n",
       "43    8.390821e+10\n",
       "44    9.137124e+10\n",
       "45    1.030716e+11\n",
       "46    1.222107e+11\n",
       "47    1.493599e+11\n",
       "48    1.741951e+11\n",
       "49    1.683346e+11\n",
       "50    1.995908e+11\n",
       "51    2.241431e+11\n",
       "52    2.500921e+11\n",
       "53    2.718361e+11\n",
       "54    2.845845e+11\n",
       "55    2.927741e+11\n",
       "56    3.048976e+11\n",
       "57    3.136197e+11\n",
       "58    3.309103e+11\n",
       "Name: NY.GDP.MKTP.CD, dtype: float64"
      ]
     },
     "execution_count": 4,
     "metadata": {},
     "output_type": "execute_result"
    }
   ],
   "source": [
    "wb_data['NY.GDP.MKTP.CD']"
   ]
  },
  {
   "cell_type": "code",
   "execution_count": null,
   "metadata": {},
   "outputs": [],
   "source": [
    "from_year = 1910\n",
    "to_year = 2016\n",
    "\n",
    "tmph_mean_per_year = temperature_ph[(temperature_ph['year'] >= from_year) & (temperature_ph['year'] <= to_year)]\\\n",
    "    .groupby(temperature_ph['year'])[['year', 'temperature_celsius']]\\\n",
    "    .transform('mean')\\\n",
    "    .drop_duplicates()\n",
    "\n",
    "rfph_mean_per_year = rainfall_ph[(rainfall_ph['year'] >= from_year) & (rainfall_ph['year'] <= to_year)]\\\n",
    "    .groupby(rainfall_ph['year'])[['year', 'rainfall_mm']]\\\n",
    "    .transform('mean')\\\n",
    "    .drop_duplicates()\n",
    "\n",
    "ph_data = pd.DataFrame(tmph_mean_per_year)\n",
    "ph_data['rainfall_mm'] = rfph_mean_per_year['rainfall_mm']\n",
    "ph_data = ph_data.reset_index()\\\n",
    "    .drop(columns='index')\\\n",
    "    .merge(consumption_emissions[['Year', 'Philippines']], how='left', left_on='year', right_on='Year')\\\n",
    "    .drop(axis=0, columns=['Year'])\\\n",
    "    .rename(columns={'Philippines': 'consumption_emissions'})\\\n",
    "    .merge(territorial_emissions[['Year', 'Philippines']], how='left', left_on='year', right_on='Year')\\\n",
    "    .drop(axis=0, columns=['Year'])\\\n",
    "    .rename(columns={'Philippines': 'territorial_emissions'})\\\n",
    "    .merge(wb_data, how='left', left_on='year', right_on='Year')\\\n",
    "    .drop(axis=0, columns=['Year'])\\\n",
    "    .rename(columns={'SP.POP.TOTL':'population'})"
   ]
  },
  {
   "cell_type": "code",
   "execution_count": null,
   "metadata": {},
   "outputs": [],
   "source": [
    "# temp_c, CO2 emissions (kt)\n",
    "plt.scatter(ph_data['temperature_celsius'], ph_data['year'], s=ph_data['EN.ATM.CO2E.KT'].transform(math.log) * 2)"
   ]
  },
  {
   "cell_type": "code",
   "execution_count": null,
   "metadata": {},
   "outputs": [],
   "source": [
    "plt.plot(ph_data['year'], ph_data['temperature_celsius'])"
   ]
  },
  {
   "cell_type": "code",
   "execution_count": null,
   "metadata": {},
   "outputs": [],
   "source": [
    "sns.distplot(ph_data['temperature_celsius'][ph_data['year'] >= 1910])"
   ]
  },
  {
   "cell_type": "code",
   "execution_count": null,
   "metadata": {},
   "outputs": [],
   "source": [
    "sns.lineplot(ph_data['EN.ATM.CO2E.PC'], ph_data['year'])"
   ]
  }
 ],
 "metadata": {
  "kernelspec": {
   "display_name": "Python 3",
   "language": "python",
   "name": "python3"
  },
  "language_info": {
   "codemirror_mode": {
    "name": "ipython",
    "version": 3
   },
   "file_extension": ".py",
   "mimetype": "text/x-python",
   "name": "python",
   "nbconvert_exporter": "python",
   "pygments_lexer": "ipython3",
   "version": "3.6.5"
  }
 },
 "nbformat": 4,
 "nbformat_minor": 2
}
